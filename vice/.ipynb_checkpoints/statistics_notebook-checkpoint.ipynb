{
 "cells": [
  {
   "cell_type": "markdown",
   "metadata": {},
   "source": [
    "# Testing Notebook"
   ]
  },
  {
   "cell_type": "code",
   "execution_count": 1,
   "metadata": {},
   "outputs": [],
   "source": [
    "import psycopg2\n",
    "import pandas as pd\n",
    "import numpy as np"
   ]
  },
  {
   "cell_type": "code",
   "execution_count": 25,
   "metadata": {},
   "outputs": [],
   "source": [
    "#Establising connection to database\n",
    "conn = psycopg2.connect(\"host=127.0.0.1 dbname=vice user=vice password=vice\")\n",
    "cur = conn.cursor()"
   ]
  },
  {
   "cell_type": "code",
   "execution_count": 26,
   "metadata": {},
   "outputs": [],
   "source": [
    "#conn = psycopg2.connect(host=\"127.0.0.1\", port=\"5432\", dbname=\"vice\", user=\"vice\", password=\"vice\")\n",
    "\n",
    "#conn = psycopg2.connect(host=\"postgres\", port=\"5432\", dbname=\"vice\", user=\"vice\", password=\"vice\")"
   ]
  },
  {
   "cell_type": "code",
   "execution_count": 32,
   "metadata": {},
   "outputs": [
    {
     "ename": "SyntaxError",
     "evalue": "syntax error at or near \"s\"\nLINE 13: where job_id = '1's\n                           ^\n",
     "output_type": "error",
     "traceback": [
      "\u001b[0;31m---------------------------------------------------------------------------\u001b[0m",
      "\u001b[0;31mSyntaxError\u001b[0m                               Traceback (most recent call last)",
      "\u001b[0;32m<ipython-input-32-d996e0ddebfd>\u001b[0m in \u001b[0;36m<module>\u001b[0;34m\u001b[0m\n\u001b[1;32m     12\u001b[0m \u001b[0;32mfrom\u001b[0m \u001b[0mrevenue_entries\u001b[0m \u001b[0;32mas\u001b[0m \u001b[0mre\u001b[0m\u001b[0;34m\u001b[0m\u001b[0;34m\u001b[0m\u001b[0m\n\u001b[1;32m     13\u001b[0m \u001b[0mleft\u001b[0m \u001b[0mjoin\u001b[0m \u001b[0mjobs\u001b[0m \u001b[0;32mas\u001b[0m \u001b[0mj\u001b[0m \u001b[0mon\u001b[0m \u001b[0mre\u001b[0m\u001b[0;34m.\u001b[0m\u001b[0mjob_id\u001b[0m \u001b[0;34m=\u001b[0m \u001b[0mj\u001b[0m\u001b[0;34m.\u001b[0m\u001b[0mid\u001b[0m\u001b[0;34m\u001b[0m\u001b[0;34m\u001b[0m\u001b[0m\n\u001b[0;32m---> 14\u001b[0;31m where job_id = %ss\"\"\", '1')\n\u001b[0m\u001b[1;32m     15\u001b[0m \u001b[0;34m\u001b[0m\u001b[0m\n",
      "\u001b[0;31mSyntaxError\u001b[0m: syntax error at or near \"s\"\nLINE 13: where job_id = '1's\n                           ^\n"
     ]
    }
   ],
   "source": [
    "#Executing sql code with cursor.\n",
    "cur.execute(\"\"\"\n",
    "SELECT j.id as job_id, \n",
    "j.name as job_name, \n",
    "j.expected_revenue,\n",
    "re.id as revenue_id,\n",
    "re.order_id,\n",
    "re.order_name,\n",
    "extract(MONTH from re.month_of_service) as month_of_service,\n",
    "re.delivered_impressions,\n",
    "re.revenue\n",
    "from revenue_entries as re \n",
    "left join jobs as j on re.job_id = j.id\n",
    "where job_id = %s\"\"\", '1')\n",
    "\n"
   ]
  },
  {
   "cell_type": "code",
   "execution_count": 29,
   "metadata": {},
   "outputs": [],
   "source": [
    "#Fetching all data from cursor.\n",
    "tuples = cur.fetchall()"
   ]
  },
  {
   "cell_type": "code",
   "execution_count": 6,
   "metadata": {},
   "outputs": [
    {
     "name": "stdout",
     "output_type": "stream",
     "text": [
      "job_id = 3\n",
      "job_name = Fixture J3\n",
      "expected_revenue = 50.00\n",
      "revenue_id = 5\n",
      "order_id = 3\n",
      "order_name = Fixture O3\n",
      "month_of_service = 1.0\n",
      "delivered_impressions = 1000\n",
      "revenue = 10.00 \n",
      "\n",
      "job_id = 3\n",
      "job_name = Fixture J3\n",
      "expected_revenue = 50.00\n",
      "revenue_id = 6\n",
      "order_id = 3\n",
      "order_name = Fixture O3\n",
      "month_of_service = 1.0\n",
      "delivered_impressions = 1000\n",
      "revenue = 10.00 \n",
      "\n",
      "job_id = 3\n",
      "job_name = Fixture J3\n",
      "expected_revenue = 50.00\n",
      "revenue_id = 7\n",
      "order_id = 3\n",
      "order_name = Fixture O3\n",
      "month_of_service = 1.0\n",
      "delivered_impressions = 1000\n",
      "revenue = 10.00 \n",
      "\n",
      "job_id = 3\n",
      "job_name = Fixture J3\n",
      "expected_revenue = 50.00\n",
      "revenue_id = 8\n",
      "order_id = 4\n",
      "order_name = Fixture O4\n",
      "month_of_service = 1.0\n",
      "delivered_impressions = 90000\n",
      "revenue = 1005.60 \n",
      "\n",
      "job_id = 3\n",
      "job_name = Fixture J3\n",
      "expected_revenue = 50.00\n",
      "revenue_id = 9\n",
      "order_id = 4\n",
      "order_name = Fixture O4\n",
      "month_of_service = 2.0\n",
      "delivered_impressions = 6500\n",
      "revenue = 22.78 \n",
      "\n",
      "job_id = 3\n",
      "job_name = Fixture J3\n",
      "expected_revenue = 50.00\n",
      "revenue_id = 10\n",
      "order_id = 4\n",
      "order_name = Fixture O4\n",
      "month_of_service = 2.0\n",
      "delivered_impressions = 500\n",
      "revenue = 0.00 \n",
      "\n",
      "job_id = 3\n",
      "job_name = Fixture J3\n",
      "expected_revenue = 50.00\n",
      "revenue_id = 11\n",
      "order_id = 4\n",
      "order_name = Fixture O4\n",
      "month_of_service = 3.0\n",
      "delivered_impressions = 0\n",
      "revenue = 10.00 \n",
      "\n"
     ]
    }
   ],
   "source": [
    "#Printing all the rows in tuples\n",
    "for row in tuples:\n",
    "    print(\"job_id =\", row[0])\n",
    "    print(\"job_name =\", row[1])\n",
    "    print(\"expected_revenue =\", row[2])\n",
    "    print(\"revenue_id =\", row[3])\n",
    "    print(\"order_id =\", row[4])\n",
    "    print(\"order_name =\", row[5])\n",
    "    print(\"month_of_service =\", row[6])\n",
    "    print(\"delivered_impressions =\", row[7])\n",
    "    print(\"revenue =\", row[8], \"\\n\")\n"
   ]
  },
  {
   "cell_type": "code",
   "execution_count": 7,
   "metadata": {},
   "outputs": [
    {
     "data": {
      "text/html": [
       "<div>\n",
       "<style scoped>\n",
       "    .dataframe tbody tr th:only-of-type {\n",
       "        vertical-align: middle;\n",
       "    }\n",
       "\n",
       "    .dataframe tbody tr th {\n",
       "        vertical-align: top;\n",
       "    }\n",
       "\n",
       "    .dataframe thead th {\n",
       "        text-align: right;\n",
       "    }\n",
       "</style>\n",
       "<table border=\"1\" class=\"dataframe\">\n",
       "  <thead>\n",
       "    <tr style=\"text-align: right;\">\n",
       "      <th></th>\n",
       "      <th>job_id</th>\n",
       "      <th>job_name</th>\n",
       "      <th>expected_revenue</th>\n",
       "      <th>revenue_id</th>\n",
       "      <th>order_id</th>\n",
       "      <th>order_name</th>\n",
       "      <th>month_of_service</th>\n",
       "      <th>delivered_impressions</th>\n",
       "      <th>revenue</th>\n",
       "    </tr>\n",
       "  </thead>\n",
       "  <tbody>\n",
       "    <tr>\n",
       "      <td>0</td>\n",
       "      <td>3</td>\n",
       "      <td>Fixture J3</td>\n",
       "      <td>50.00</td>\n",
       "      <td>5</td>\n",
       "      <td>3</td>\n",
       "      <td>Fixture O3</td>\n",
       "      <td>1.0</td>\n",
       "      <td>1000</td>\n",
       "      <td>10.00</td>\n",
       "    </tr>\n",
       "    <tr>\n",
       "      <td>1</td>\n",
       "      <td>3</td>\n",
       "      <td>Fixture J3</td>\n",
       "      <td>50.00</td>\n",
       "      <td>6</td>\n",
       "      <td>3</td>\n",
       "      <td>Fixture O3</td>\n",
       "      <td>1.0</td>\n",
       "      <td>1000</td>\n",
       "      <td>10.00</td>\n",
       "    </tr>\n",
       "    <tr>\n",
       "      <td>2</td>\n",
       "      <td>3</td>\n",
       "      <td>Fixture J3</td>\n",
       "      <td>50.00</td>\n",
       "      <td>7</td>\n",
       "      <td>3</td>\n",
       "      <td>Fixture O3</td>\n",
       "      <td>1.0</td>\n",
       "      <td>1000</td>\n",
       "      <td>10.00</td>\n",
       "    </tr>\n",
       "    <tr>\n",
       "      <td>3</td>\n",
       "      <td>3</td>\n",
       "      <td>Fixture J3</td>\n",
       "      <td>50.00</td>\n",
       "      <td>8</td>\n",
       "      <td>4</td>\n",
       "      <td>Fixture O4</td>\n",
       "      <td>1.0</td>\n",
       "      <td>90000</td>\n",
       "      <td>1005.60</td>\n",
       "    </tr>\n",
       "    <tr>\n",
       "      <td>4</td>\n",
       "      <td>3</td>\n",
       "      <td>Fixture J3</td>\n",
       "      <td>50.00</td>\n",
       "      <td>9</td>\n",
       "      <td>4</td>\n",
       "      <td>Fixture O4</td>\n",
       "      <td>2.0</td>\n",
       "      <td>6500</td>\n",
       "      <td>22.78</td>\n",
       "    </tr>\n",
       "  </tbody>\n",
       "</table>\n",
       "</div>"
      ],
      "text/plain": [
       "   job_id    job_name expected_revenue  revenue_id  order_id  order_name  \\\n",
       "0       3  Fixture J3            50.00           5         3  Fixture O3   \n",
       "1       3  Fixture J3            50.00           6         3  Fixture O3   \n",
       "2       3  Fixture J3            50.00           7         3  Fixture O3   \n",
       "3       3  Fixture J3            50.00           8         4  Fixture O4   \n",
       "4       3  Fixture J3            50.00           9         4  Fixture O4   \n",
       "\n",
       "   month_of_service  delivered_impressions  revenue  \n",
       "0               1.0                   1000    10.00  \n",
       "1               1.0                   1000    10.00  \n",
       "2               1.0                   1000    10.00  \n",
       "3               1.0                  90000  1005.60  \n",
       "4               2.0                   6500    22.78  "
      ]
     },
     "execution_count": 7,
     "metadata": {},
     "output_type": "execute_result"
    }
   ],
   "source": [
    "#Name of columns for pandas dataframe\n",
    "columns = [\"job_id\", \"job_name\", \"expected_revenue\", \"revenue_id\", \"order_id\",\n",
    "              \"order_name\", \"month_of_service\", \"delivered_impressions\", \"revenue\"]\n",
    "#Creating dataframe\n",
    "df = pd.DataFrame(tuples, columns=columns)\n",
    "df.head()"
   ]
  },
  {
   "cell_type": "code",
   "execution_count": 8,
   "metadata": {},
   "outputs": [],
   "source": [
    "#Ensuring float types are actually float types\n",
    "df['revenue']=df['revenue'].astype(float)\n",
    "df['expected_revenue']=df['expected_revenue'].astype(float)"
   ]
  },
  {
   "cell_type": "code",
   "execution_count": 9,
   "metadata": {},
   "outputs": [],
   "source": [
    "#Calculating ecpm based on ecpm = (total_cost/total_impressions) *1000\n",
    "\n",
    "df['ecpm'] = (df['revenue'] / df['delivered_impressions'] )*1000"
   ]
  },
  {
   "cell_type": "code",
   "execution_count": 10,
   "metadata": {},
   "outputs": [],
   "source": [
    "#Creating overall_df to summarize data at the job_id level.\n",
    "\n",
    "overall_df = df.groupby(['job_name', 'job_id']).agg({\"expected_revenue\": \"mean\", \"revenue\": \"sum\", \\\n",
    "                           \"month_of_service\":pd.Series.nunique}).reset_index()"
   ]
  },
  {
   "cell_type": "code",
   "execution_count": 11,
   "metadata": {},
   "outputs": [],
   "source": [
    "#Determining whether total_revenue is greater than expected revenue.\n",
    "\n",
    "overall_df['met_expected_revenue'] = overall_df.apply(lambda x: True if (x['expected_revenue'] <= x[\"revenue\"])\\\n",
    "                                                      else False, axis =1)"
   ]
  },
  {
   "cell_type": "code",
   "execution_count": 12,
   "metadata": {},
   "outputs": [
    {
     "data": {
      "text/html": [
       "<div>\n",
       "<style scoped>\n",
       "    .dataframe tbody tr th:only-of-type {\n",
       "        vertical-align: middle;\n",
       "    }\n",
       "\n",
       "    .dataframe tbody tr th {\n",
       "        vertical-align: top;\n",
       "    }\n",
       "\n",
       "    .dataframe thead th {\n",
       "        text-align: right;\n",
       "    }\n",
       "</style>\n",
       "<table border=\"1\" class=\"dataframe\">\n",
       "  <thead>\n",
       "    <tr style=\"text-align: right;\">\n",
       "      <th></th>\n",
       "      <th>job_name</th>\n",
       "      <th>job_id</th>\n",
       "      <th>expected_revenue</th>\n",
       "      <th>revenue</th>\n",
       "      <th>month_of_service</th>\n",
       "      <th>met_expected_revenue</th>\n",
       "    </tr>\n",
       "  </thead>\n",
       "  <tbody>\n",
       "    <tr>\n",
       "      <td>0</td>\n",
       "      <td>Fixture J3</td>\n",
       "      <td>3</td>\n",
       "      <td>50.0</td>\n",
       "      <td>1068.38</td>\n",
       "      <td>3.0</td>\n",
       "      <td>True</td>\n",
       "    </tr>\n",
       "  </tbody>\n",
       "</table>\n",
       "</div>"
      ],
      "text/plain": [
       "     job_name  job_id  expected_revenue  revenue  month_of_service  \\\n",
       "0  Fixture J3       3              50.0  1068.38               3.0   \n",
       "\n",
       "   met_expected_revenue  \n",
       "0                  True  "
      ]
     },
     "execution_count": 12,
     "metadata": {},
     "output_type": "execute_result"
    }
   ],
   "source": [
    "#Sanity Check\n",
    "overall_df.head()"
   ]
  },
  {
   "cell_type": "code",
   "execution_count": 13,
   "metadata": {},
   "outputs": [],
   "source": [
    "#Creating dictionary with job_id information\n",
    "\n",
    "dict_results = {\"job_name\": overall_df[\"job_name\"].values[0]}\n",
    "dict_results[\"expected_revenue\"] = overall_df[\"expected_revenue\"].values[0]\n",
    "dict_results[\"total_revenue\"] = round(overall_df[\"revenue\"].values[0], 2)\n",
    "dict_results[\"revenue_target_met\"] = overall_df[\"met_expected_revenue\"][0]\n",
    "dict_results[\"month_of_service_count\"] = int(round(overall_df[\"month_of_service\"].values[0]))"
   ]
  },
  {
   "cell_type": "code",
   "execution_count": 14,
   "metadata": {},
   "outputs": [],
   "source": [
    "# Ensuring inf is replace with 0, especially for ecpm where impressions are 0.\n",
    "df.replace(np.inf, 0, inplace = True)"
   ]
  },
  {
   "cell_type": "code",
   "execution_count": 15,
   "metadata": {},
   "outputs": [],
   "source": [
    "# Creating df at the order_id \n",
    "order_df = df.groupby([\"order_id\", \"order_name\"]).agg({\"revenue\": \"sum\", \"ecpm\": \"mean\", \\\n",
    "                                                     \"delivered_impressions\": \"sum\"}).reset_index()"
   ]
  },
  {
   "cell_type": "code",
   "execution_count": 16,
   "metadata": {},
   "outputs": [
    {
     "data": {
      "text/html": [
       "<div>\n",
       "<style scoped>\n",
       "    .dataframe tbody tr th:only-of-type {\n",
       "        vertical-align: middle;\n",
       "    }\n",
       "\n",
       "    .dataframe tbody tr th {\n",
       "        vertical-align: top;\n",
       "    }\n",
       "\n",
       "    .dataframe thead th {\n",
       "        text-align: right;\n",
       "    }\n",
       "</style>\n",
       "<table border=\"1\" class=\"dataframe\">\n",
       "  <thead>\n",
       "    <tr style=\"text-align: right;\">\n",
       "      <th></th>\n",
       "      <th>order_id</th>\n",
       "      <th>order_name</th>\n",
       "      <th>revenue</th>\n",
       "      <th>ecpm</th>\n",
       "      <th>delivered_impressions</th>\n",
       "    </tr>\n",
       "  </thead>\n",
       "  <tbody>\n",
       "    <tr>\n",
       "      <td>0</td>\n",
       "      <td>3</td>\n",
       "      <td>Fixture O3</td>\n",
       "      <td>30.00</td>\n",
       "      <td>10.000000</td>\n",
       "      <td>3000</td>\n",
       "    </tr>\n",
       "    <tr>\n",
       "      <td>1</td>\n",
       "      <td>4</td>\n",
       "      <td>Fixture O4</td>\n",
       "      <td>1038.38</td>\n",
       "      <td>3.669487</td>\n",
       "      <td>97000</td>\n",
       "    </tr>\n",
       "  </tbody>\n",
       "</table>\n",
       "</div>"
      ],
      "text/plain": [
       "   order_id  order_name  revenue       ecpm  delivered_impressions\n",
       "0         3  Fixture O3    30.00  10.000000                   3000\n",
       "1         4  Fixture O4  1038.38   3.669487                  97000"
      ]
     },
     "execution_count": 16,
     "metadata": {},
     "output_type": "execute_result"
    }
   ],
   "source": [
    "#Sanity Check\n",
    "order_df.head()"
   ]
  },
  {
   "cell_type": "code",
   "execution_count": 17,
   "metadata": {},
   "outputs": [],
   "source": [
    "# Calculating total_ecpm per order_id level.\n",
    "order_df['total_ecpm'] = order_df['revenue']/(order_df['delivered_impressions']/1000)"
   ]
  },
  {
   "cell_type": "code",
   "execution_count": 18,
   "metadata": {},
   "outputs": [
    {
     "data": {
      "text/html": [
       "<div>\n",
       "<style scoped>\n",
       "    .dataframe tbody tr th:only-of-type {\n",
       "        vertical-align: middle;\n",
       "    }\n",
       "\n",
       "    .dataframe tbody tr th {\n",
       "        vertical-align: top;\n",
       "    }\n",
       "\n",
       "    .dataframe thead th {\n",
       "        text-align: right;\n",
       "    }\n",
       "</style>\n",
       "<table border=\"1\" class=\"dataframe\">\n",
       "  <thead>\n",
       "    <tr style=\"text-align: right;\">\n",
       "      <th></th>\n",
       "      <th>order_id</th>\n",
       "      <th>order_name</th>\n",
       "      <th>revenue</th>\n",
       "      <th>ecpm</th>\n",
       "      <th>delivered_impressions</th>\n",
       "      <th>total_ecpm</th>\n",
       "    </tr>\n",
       "  </thead>\n",
       "  <tbody>\n",
       "    <tr>\n",
       "      <td>0</td>\n",
       "      <td>3</td>\n",
       "      <td>Fixture O3</td>\n",
       "      <td>30.00</td>\n",
       "      <td>10.000000</td>\n",
       "      <td>3000</td>\n",
       "      <td>10.000000</td>\n",
       "    </tr>\n",
       "    <tr>\n",
       "      <td>1</td>\n",
       "      <td>4</td>\n",
       "      <td>Fixture O4</td>\n",
       "      <td>1038.38</td>\n",
       "      <td>3.669487</td>\n",
       "      <td>97000</td>\n",
       "      <td>10.704948</td>\n",
       "    </tr>\n",
       "  </tbody>\n",
       "</table>\n",
       "</div>"
      ],
      "text/plain": [
       "   order_id  order_name  revenue       ecpm  delivered_impressions  total_ecpm\n",
       "0         3  Fixture O3    30.00  10.000000                   3000   10.000000\n",
       "1         4  Fixture O4  1038.38   3.669487                  97000   10.704948"
      ]
     },
     "execution_count": 18,
     "metadata": {},
     "output_type": "execute_result"
    }
   ],
   "source": [
    "#Sanity Check\n",
    "order_df"
   ]
  },
  {
   "cell_type": "code",
   "execution_count": 19,
   "metadata": {},
   "outputs": [],
   "source": [
    "# Creating dictionary at the order_id level that is nested within the job_id dictionary.\n",
    "dict_orders = {}\n",
    "for row in order_df.iterrows():\n",
    "    temp_dict = {}\n",
    "    temp_dict[\"order_name\"] = row[1][\"order_name\"]\n",
    "    temp_dict[\"total_revenue\"] = round(row[1][\"revenue\"],2)\n",
    "    temp_dict[\"average_ecpm\"] = round(row[1][\"ecpm\"],2)\n",
    "    temp_dict[\"total_ecpm\"] = round(row[1][\"total_ecpm\"],1)\n",
    "    dict_orders[row[1][\"order_id\"]] = temp_dict\n",
    "    #dict_orders[row[1][\"order_id\"] = temp_dict"
   ]
  },
  {
   "cell_type": "code",
   "execution_count": 20,
   "metadata": {},
   "outputs": [],
   "source": [
    "# Nesting order_id dictionary into the overall job_id dictionary results.\n",
    "dict_results[\"orders\"] = dict_orders"
   ]
  },
  {
   "cell_type": "code",
   "execution_count": 21,
   "metadata": {},
   "outputs": [
    {
     "data": {
      "text/plain": [
       "{'job_name': 'Fixture J3',\n",
       " 'expected_revenue': 50.0,\n",
       " 'total_revenue': 1068.38,\n",
       " 'revenue_target_met': True,\n",
       " 'month_of_service_count': 3,\n",
       " 'orders': {3: {'order_name': 'Fixture O3',\n",
       "   'total_revenue': 30.0,\n",
       "   'average_ecpm': 10.0,\n",
       "   'total_ecpm': 10.0},\n",
       "  4: {'order_name': 'Fixture O4',\n",
       "   'total_revenue': 1038.38,\n",
       "   'average_ecpm': 3.67,\n",
       "   'total_ecpm': 10.7}}}"
      ]
     },
     "execution_count": 21,
     "metadata": {},
     "output_type": "execute_result"
    }
   ],
   "source": [
    "# Sanity Check\n",
    "dict_results"
   ]
  },
  {
   "cell_type": "code",
   "execution_count": 22,
   "metadata": {},
   "outputs": [],
   "source": [
    "#Testing dictionary\n",
    "tester = {\n",
    "            \"job_name\": \"Fixture J3\",\n",
    "            \"expected_revenue\": 50.00,\n",
    "            \"total_revenue\": 1068.38,\n",
    "            \"revenue_target_met\": True,\n",
    "            \"month_of_service_count\": 3,\n",
    "            \"orders\": {\n",
    "                3: {\n",
    "                    \"order_name\": \"Fixture O3\",\n",
    "                    \"total_revenue\": 30.00,\n",
    "                    \"average_ecpm\": 10.00,\n",
    "                    \"total_ecpm\": 10.00\n",
    "                },\n",
    "                4: {\n",
    "                    \"order_name\": \"Fixture O4\",\n",
    "                    \"total_revenue\": 1038.38,\n",
    "                    \"average_ecpm\": 3.67,\n",
    "                    \"total_ecpm\": 10.70\n",
    "                }\n",
    "            }\n",
    "        }"
   ]
  },
  {
   "cell_type": "code",
   "execution_count": 23,
   "metadata": {},
   "outputs": [
    {
     "name": "stdout",
     "output_type": "stream",
     "text": [
      "True\n"
     ]
    }
   ],
   "source": [
    "#Passed?\n",
    "print(dict_results == tester)"
   ]
  },
  {
   "cell_type": "code",
   "execution_count": null,
   "metadata": {},
   "outputs": [],
   "source": []
  },
  {
   "cell_type": "code",
   "execution_count": null,
   "metadata": {},
   "outputs": [],
   "source": []
  },
  {
   "cell_type": "code",
   "execution_count": null,
   "metadata": {},
   "outputs": [],
   "source": []
  }
 ],
 "metadata": {
  "kernelspec": {
   "display_name": "Python 3",
   "language": "python",
   "name": "python3"
  },
  "language_info": {
   "codemirror_mode": {
    "name": "ipython",
    "version": 3
   },
   "file_extension": ".py",
   "mimetype": "text/x-python",
   "name": "python",
   "nbconvert_exporter": "python",
   "pygments_lexer": "ipython3",
   "version": "3.7.4"
  }
 },
 "nbformat": 4,
 "nbformat_minor": 2
}
