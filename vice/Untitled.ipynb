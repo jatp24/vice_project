{
 "cells": [
  {
   "cell_type": "code",
   "execution_count": 699,
   "metadata": {},
   "outputs": [],
   "source": [
    "import psycopg2\n",
    "import pandas as pd\n",
    "import numpy as np"
   ]
  },
  {
   "cell_type": "code",
   "execution_count": 700,
   "metadata": {},
   "outputs": [],
   "source": [
    "\n",
    "conn = psycopg2.connect(\"host=127.0.0.1 dbname=vice user=vice password=vice\")\n",
    "cur = conn.cursor()"
   ]
  },
  {
   "cell_type": "code",
   "execution_count": 701,
   "metadata": {},
   "outputs": [],
   "source": [
    "#conn = psycopg2.connect(host=\"127.0.0.1\", port=\"5432\", dbname=\"vice\", user=\"vice\", password=\"vice\")\n",
    "\n",
    "#conn = psycopg2.connect(host=\"postgres\", port=\"5432\", dbname=\"vice\", user=\"vice\", password=\"vice\")"
   ]
  },
  {
   "cell_type": "code",
   "execution_count": 728,
   "metadata": {},
   "outputs": [],
   "source": [
    "cur.execute(\"\"\"\n",
    "SELECT j.id as job_id, \n",
    "j.name as job_name, \n",
    "j.expected_revenue,\n",
    "re.id as revenue_id,\n",
    "re.order_id,\n",
    "re.order_name,\n",
    "extract(MONTH from re.month_of_service) as month_of_service,\n",
    "re.delivered_impressions,\n",
    "re.revenue\n",
    "from revenue_entries as re \n",
    "left join jobs as j on re.job_id = j.id\n",
    "where job_id = %s\"\"\", '3')\n",
    "\n",
    "#print(cur.fetchall())"
   ]
  },
  {
   "cell_type": "code",
   "execution_count": 729,
   "metadata": {},
   "outputs": [
    {
     "data": {
      "text/plain": [
       "[(2,\n",
       "  'Fixture J2',\n",
       "  Decimal('40.00'),\n",
       "  4,\n",
       "  2,\n",
       "  'Fixture O2',\n",
       "  1.0,\n",
       "  1000,\n",
       "  Decimal('0.00'))]"
      ]
     },
     "execution_count": 729,
     "metadata": {},
     "output_type": "execute_result"
    }
   ],
   "source": [
    "tuples"
   ]
  },
  {
   "cell_type": "code",
   "execution_count": 730,
   "metadata": {},
   "outputs": [
    {
     "name": "stdout",
     "output_type": "stream",
     "text": [
      "job_id = 2\n",
      "job_name = Fixture J2\n",
      "expected_revenue = 40.00\n",
      "revenue_id = 4\n",
      "order_id = 2\n",
      "order_name = Fixture O2\n",
      "month_of_service = 1.0\n",
      "delivered_impressions = 1000\n",
      "revenue = 0.00 \n",
      "\n"
     ]
    }
   ],
   "source": [
    "for row in tuples:\n",
    "    print(\"job_id =\", row[0])\n",
    "    print(\"job_name =\", row[1])\n",
    "    print(\"expected_revenue =\", row[2])\n",
    "    print(\"revenue_id =\", row[3])\n",
    "    print(\"order_id =\", row[4])\n",
    "    print(\"order_name =\", row[5])\n",
    "\n",
    "    \n",
    "    print(\"month_of_service =\", row[6])\n",
    "    print(\"delivered_impressions =\", row[7])\n",
    "    print(\"revenue =\", row[8], \"\\n\")\n"
   ]
  },
  {
   "cell_type": "code",
   "execution_count": 731,
   "metadata": {},
   "outputs": [
    {
     "data": {
      "text/html": [
       "<div>\n",
       "<style scoped>\n",
       "    .dataframe tbody tr th:only-of-type {\n",
       "        vertical-align: middle;\n",
       "    }\n",
       "\n",
       "    .dataframe tbody tr th {\n",
       "        vertical-align: top;\n",
       "    }\n",
       "\n",
       "    .dataframe thead th {\n",
       "        text-align: right;\n",
       "    }\n",
       "</style>\n",
       "<table border=\"1\" class=\"dataframe\">\n",
       "  <thead>\n",
       "    <tr style=\"text-align: right;\">\n",
       "      <th></th>\n",
       "      <th>job_id</th>\n",
       "      <th>job_name</th>\n",
       "      <th>expected_revenue</th>\n",
       "      <th>revenue_id</th>\n",
       "      <th>order_id</th>\n",
       "      <th>order_name</th>\n",
       "      <th>month_of_service</th>\n",
       "      <th>delivered_impressions</th>\n",
       "      <th>revenue</th>\n",
       "    </tr>\n",
       "  </thead>\n",
       "  <tbody>\n",
       "    <tr>\n",
       "      <td>0</td>\n",
       "      <td>3</td>\n",
       "      <td>Fixture J3</td>\n",
       "      <td>50.00</td>\n",
       "      <td>5</td>\n",
       "      <td>3</td>\n",
       "      <td>Fixture O3</td>\n",
       "      <td>1.0</td>\n",
       "      <td>1000</td>\n",
       "      <td>10.00</td>\n",
       "    </tr>\n",
       "    <tr>\n",
       "      <td>1</td>\n",
       "      <td>3</td>\n",
       "      <td>Fixture J3</td>\n",
       "      <td>50.00</td>\n",
       "      <td>6</td>\n",
       "      <td>3</td>\n",
       "      <td>Fixture O3</td>\n",
       "      <td>1.0</td>\n",
       "      <td>1000</td>\n",
       "      <td>10.00</td>\n",
       "    </tr>\n",
       "    <tr>\n",
       "      <td>2</td>\n",
       "      <td>3</td>\n",
       "      <td>Fixture J3</td>\n",
       "      <td>50.00</td>\n",
       "      <td>7</td>\n",
       "      <td>3</td>\n",
       "      <td>Fixture O3</td>\n",
       "      <td>1.0</td>\n",
       "      <td>1000</td>\n",
       "      <td>10.00</td>\n",
       "    </tr>\n",
       "    <tr>\n",
       "      <td>3</td>\n",
       "      <td>3</td>\n",
       "      <td>Fixture J3</td>\n",
       "      <td>50.00</td>\n",
       "      <td>8</td>\n",
       "      <td>4</td>\n",
       "      <td>Fixture O4</td>\n",
       "      <td>1.0</td>\n",
       "      <td>90000</td>\n",
       "      <td>1005.60</td>\n",
       "    </tr>\n",
       "    <tr>\n",
       "      <td>4</td>\n",
       "      <td>3</td>\n",
       "      <td>Fixture J3</td>\n",
       "      <td>50.00</td>\n",
       "      <td>9</td>\n",
       "      <td>4</td>\n",
       "      <td>Fixture O4</td>\n",
       "      <td>2.0</td>\n",
       "      <td>6500</td>\n",
       "      <td>22.78</td>\n",
       "    </tr>\n",
       "    <tr>\n",
       "      <td>5</td>\n",
       "      <td>3</td>\n",
       "      <td>Fixture J3</td>\n",
       "      <td>50.00</td>\n",
       "      <td>10</td>\n",
       "      <td>4</td>\n",
       "      <td>Fixture O4</td>\n",
       "      <td>2.0</td>\n",
       "      <td>500</td>\n",
       "      <td>0.00</td>\n",
       "    </tr>\n",
       "    <tr>\n",
       "      <td>6</td>\n",
       "      <td>3</td>\n",
       "      <td>Fixture J3</td>\n",
       "      <td>50.00</td>\n",
       "      <td>11</td>\n",
       "      <td>4</td>\n",
       "      <td>Fixture O4</td>\n",
       "      <td>3.0</td>\n",
       "      <td>0</td>\n",
       "      <td>10.00</td>\n",
       "    </tr>\n",
       "  </tbody>\n",
       "</table>\n",
       "</div>"
      ],
      "text/plain": [
       "   job_id    job_name expected_revenue  revenue_id  order_id  order_name  \\\n",
       "0       3  Fixture J3            50.00           5         3  Fixture O3   \n",
       "1       3  Fixture J3            50.00           6         3  Fixture O3   \n",
       "2       3  Fixture J3            50.00           7         3  Fixture O3   \n",
       "3       3  Fixture J3            50.00           8         4  Fixture O4   \n",
       "4       3  Fixture J3            50.00           9         4  Fixture O4   \n",
       "5       3  Fixture J3            50.00          10         4  Fixture O4   \n",
       "6       3  Fixture J3            50.00          11         4  Fixture O4   \n",
       "\n",
       "   month_of_service  delivered_impressions  revenue  \n",
       "0               1.0                   1000    10.00  \n",
       "1               1.0                   1000    10.00  \n",
       "2               1.0                   1000    10.00  \n",
       "3               1.0                  90000  1005.60  \n",
       "4               2.0                   6500    22.78  \n",
       "5               2.0                    500     0.00  \n",
       "6               3.0                      0    10.00  "
      ]
     },
     "execution_count": 731,
     "metadata": {},
     "output_type": "execute_result"
    }
   ],
   "source": [
    "columns = [\"job_id\", \"job_name\", \"expected_revenue\", \"revenue_id\", \"order_id\",\n",
    "              \"order_name\", \"month_of_service\", \"delivered_impressions\", \"revenue\"]\n",
    "tuples = cur.fetchall()\n",
    "df = pd.DataFrame(tuples, columns=columns)\n",
    "df"
   ]
  },
  {
   "cell_type": "code",
   "execution_count": 732,
   "metadata": {},
   "outputs": [],
   "source": [
    "df['revenue']=df['revenue'].astype(float)\n",
    "df['expected_revenue']=df['expected_revenue'].astype(float)"
   ]
  },
  {
   "cell_type": "code",
   "execution_count": 733,
   "metadata": {},
   "outputs": [],
   "source": [
    "#df = df[df['revenue'] > 0]\n",
    "\n",
    "#df = df[df['delivered_impressions']>0]"
   ]
  },
  {
   "cell_type": "code",
   "execution_count": 734,
   "metadata": {},
   "outputs": [
    {
     "data": {
      "text/html": [
       "<div>\n",
       "<style scoped>\n",
       "    .dataframe tbody tr th:only-of-type {\n",
       "        vertical-align: middle;\n",
       "    }\n",
       "\n",
       "    .dataframe tbody tr th {\n",
       "        vertical-align: top;\n",
       "    }\n",
       "\n",
       "    .dataframe thead th {\n",
       "        text-align: right;\n",
       "    }\n",
       "</style>\n",
       "<table border=\"1\" class=\"dataframe\">\n",
       "  <thead>\n",
       "    <tr style=\"text-align: right;\">\n",
       "      <th></th>\n",
       "      <th>delivered_impressions</th>\n",
       "      <th>revenue</th>\n",
       "    </tr>\n",
       "    <tr>\n",
       "      <th>order_id</th>\n",
       "      <th></th>\n",
       "      <th></th>\n",
       "    </tr>\n",
       "  </thead>\n",
       "  <tbody>\n",
       "    <tr>\n",
       "      <td>3</td>\n",
       "      <td>3000</td>\n",
       "      <td>30.00</td>\n",
       "    </tr>\n",
       "    <tr>\n",
       "      <td>4</td>\n",
       "      <td>97000</td>\n",
       "      <td>1038.38</td>\n",
       "    </tr>\n",
       "  </tbody>\n",
       "</table>\n",
       "</div>"
      ],
      "text/plain": [
       "          delivered_impressions  revenue\n",
       "order_id                                \n",
       "3                          3000    30.00\n",
       "4                         97000  1038.38"
      ]
     },
     "execution_count": 734,
     "metadata": {},
     "output_type": "execute_result"
    }
   ],
   "source": [
    "df.groupby(\"order_id\")[['delivered_impressions', \"revenue\"]].sum()"
   ]
  },
  {
   "cell_type": "code",
   "execution_count": 735,
   "metadata": {},
   "outputs": [
    {
     "name": "stdout",
     "output_type": "stream",
     "text": [
      "10.703917525773196\n"
     ]
    }
   ],
   "source": [
    "print((1038.28)/97000*1000)"
   ]
  },
  {
   "cell_type": "code",
   "execution_count": 736,
   "metadata": {},
   "outputs": [
    {
     "data": {
      "text/plain": [
       "0    10.000000\n",
       "1    10.000000\n",
       "2    10.000000\n",
       "3    11.173333\n",
       "4     3.504615\n",
       "5     0.000000\n",
       "6          inf\n",
       "dtype: float64"
      ]
     },
     "execution_count": 736,
     "metadata": {},
     "output_type": "execute_result"
    }
   ],
   "source": [
    "df[\"revenue\"]/(df['delivered_impressions']/1000)"
   ]
  },
  {
   "cell_type": "code",
   "execution_count": 737,
   "metadata": {},
   "outputs": [],
   "source": [
    "df['ecpm'] = (df['revenue'] / df['delivered_impressions'] )*1000"
   ]
  },
  {
   "cell_type": "code",
   "execution_count": 738,
   "metadata": {},
   "outputs": [],
   "source": [
    "overall_df = df.groupby(['job_name', 'job_id']).agg({\"expected_revenue\": \"mean\", \"revenue\": \"sum\", \\\n",
    "                           \"month_of_service\":pd.Series.nunique}).reset_index()"
   ]
  },
  {
   "cell_type": "code",
   "execution_count": null,
   "metadata": {},
   "outputs": [],
   "source": []
  },
  {
   "cell_type": "code",
   "execution_count": 739,
   "metadata": {},
   "outputs": [],
   "source": [
    "overall_df['met_expected_revenue'] = overall_df.apply(lambda x: True if (x['expected_revenue'] <= x[\"revenue\"])\\\n",
    "                                                      else False, axis =1)"
   ]
  },
  {
   "cell_type": "code",
   "execution_count": 740,
   "metadata": {},
   "outputs": [
    {
     "data": {
      "text/html": [
       "<div>\n",
       "<style scoped>\n",
       "    .dataframe tbody tr th:only-of-type {\n",
       "        vertical-align: middle;\n",
       "    }\n",
       "\n",
       "    .dataframe tbody tr th {\n",
       "        vertical-align: top;\n",
       "    }\n",
       "\n",
       "    .dataframe thead th {\n",
       "        text-align: right;\n",
       "    }\n",
       "</style>\n",
       "<table border=\"1\" class=\"dataframe\">\n",
       "  <thead>\n",
       "    <tr style=\"text-align: right;\">\n",
       "      <th></th>\n",
       "      <th>job_name</th>\n",
       "      <th>job_id</th>\n",
       "      <th>expected_revenue</th>\n",
       "      <th>revenue</th>\n",
       "      <th>month_of_service</th>\n",
       "      <th>met_expected_revenue</th>\n",
       "    </tr>\n",
       "  </thead>\n",
       "  <tbody>\n",
       "    <tr>\n",
       "      <td>0</td>\n",
       "      <td>Fixture J3</td>\n",
       "      <td>3</td>\n",
       "      <td>50.0</td>\n",
       "      <td>1068.38</td>\n",
       "      <td>3.0</td>\n",
       "      <td>True</td>\n",
       "    </tr>\n",
       "  </tbody>\n",
       "</table>\n",
       "</div>"
      ],
      "text/plain": [
       "     job_name  job_id  expected_revenue  revenue  month_of_service  \\\n",
       "0  Fixture J3       3              50.0  1068.38               3.0   \n",
       "\n",
       "   met_expected_revenue  \n",
       "0                  True  "
      ]
     },
     "execution_count": 740,
     "metadata": {},
     "output_type": "execute_result"
    }
   ],
   "source": [
    "overall_df.head()"
   ]
  },
  {
   "cell_type": "code",
   "execution_count": 741,
   "metadata": {},
   "outputs": [],
   "source": [
    "dict_results = {\"job_name\": overall_df[\"job_name\"].values[0]}\n",
    "dict_results[\"expected_revenue\"] = overall_df[\"expected_revenue\"].values[0]\n",
    "dict_results[\"total_revenue\"] = round(overall_df[\"revenue\"].values[0], 2)\n",
    "dict_results[\"revenue_target_met\"] = overall_df[\"met_expected_revenue\"][0]\n",
    "dict_results[\"month_of_service_count\"] = int(round(overall_df[\"month_of_service\"].values[0]))"
   ]
  },
  {
   "cell_type": "code",
   "execution_count": null,
   "metadata": {},
   "outputs": [],
   "source": []
  },
  {
   "cell_type": "code",
   "execution_count": 742,
   "metadata": {},
   "outputs": [],
   "source": [
    "df.replace(np.inf, 0, inplace = True)"
   ]
  },
  {
   "cell_type": "code",
   "execution_count": 743,
   "metadata": {},
   "outputs": [],
   "source": [
    "order_df = df.groupby([\"order_id\", \"order_name\"]).agg({\"revenue\": \"sum\", \"ecpm\": \"mean\", \\\n",
    "                                                     \"delivered_impressions\": \"sum\"}).reset_index()"
   ]
  },
  {
   "cell_type": "code",
   "execution_count": 744,
   "metadata": {},
   "outputs": [
    {
     "data": {
      "text/html": [
       "<div>\n",
       "<style scoped>\n",
       "    .dataframe tbody tr th:only-of-type {\n",
       "        vertical-align: middle;\n",
       "    }\n",
       "\n",
       "    .dataframe tbody tr th {\n",
       "        vertical-align: top;\n",
       "    }\n",
       "\n",
       "    .dataframe thead th {\n",
       "        text-align: right;\n",
       "    }\n",
       "</style>\n",
       "<table border=\"1\" class=\"dataframe\">\n",
       "  <thead>\n",
       "    <tr style=\"text-align: right;\">\n",
       "      <th></th>\n",
       "      <th>order_id</th>\n",
       "      <th>order_name</th>\n",
       "      <th>revenue</th>\n",
       "      <th>ecpm</th>\n",
       "      <th>delivered_impressions</th>\n",
       "    </tr>\n",
       "  </thead>\n",
       "  <tbody>\n",
       "    <tr>\n",
       "      <td>0</td>\n",
       "      <td>3</td>\n",
       "      <td>Fixture O3</td>\n",
       "      <td>30.00</td>\n",
       "      <td>10.000000</td>\n",
       "      <td>3000</td>\n",
       "    </tr>\n",
       "    <tr>\n",
       "      <td>1</td>\n",
       "      <td>4</td>\n",
       "      <td>Fixture O4</td>\n",
       "      <td>1038.38</td>\n",
       "      <td>3.669487</td>\n",
       "      <td>97000</td>\n",
       "    </tr>\n",
       "  </tbody>\n",
       "</table>\n",
       "</div>"
      ],
      "text/plain": [
       "   order_id  order_name  revenue       ecpm  delivered_impressions\n",
       "0         3  Fixture O3    30.00  10.000000                   3000\n",
       "1         4  Fixture O4  1038.38   3.669487                  97000"
      ]
     },
     "execution_count": 744,
     "metadata": {},
     "output_type": "execute_result"
    }
   ],
   "source": [
    "order_df.head()"
   ]
  },
  {
   "cell_type": "code",
   "execution_count": 745,
   "metadata": {},
   "outputs": [
    {
     "data": {
      "text/plain": [
       "10.7"
      ]
     },
     "execution_count": 745,
     "metadata": {},
     "output_type": "execute_result"
    }
   ],
   "source": [
    "round(1038.38/(97000/1000),2)"
   ]
  },
  {
   "cell_type": "code",
   "execution_count": 746,
   "metadata": {},
   "outputs": [],
   "source": [
    "order_df['total_ecpm'] = order_df['revenue']/(order_df['delivered_impressions']/1000)"
   ]
  },
  {
   "cell_type": "code",
   "execution_count": 747,
   "metadata": {},
   "outputs": [
    {
     "data": {
      "text/html": [
       "<div>\n",
       "<style scoped>\n",
       "    .dataframe tbody tr th:only-of-type {\n",
       "        vertical-align: middle;\n",
       "    }\n",
       "\n",
       "    .dataframe tbody tr th {\n",
       "        vertical-align: top;\n",
       "    }\n",
       "\n",
       "    .dataframe thead th {\n",
       "        text-align: right;\n",
       "    }\n",
       "</style>\n",
       "<table border=\"1\" class=\"dataframe\">\n",
       "  <thead>\n",
       "    <tr style=\"text-align: right;\">\n",
       "      <th></th>\n",
       "      <th>order_id</th>\n",
       "      <th>order_name</th>\n",
       "      <th>revenue</th>\n",
       "      <th>ecpm</th>\n",
       "      <th>delivered_impressions</th>\n",
       "      <th>total_ecpm</th>\n",
       "    </tr>\n",
       "  </thead>\n",
       "  <tbody>\n",
       "    <tr>\n",
       "      <td>0</td>\n",
       "      <td>3</td>\n",
       "      <td>Fixture O3</td>\n",
       "      <td>30.00</td>\n",
       "      <td>10.000000</td>\n",
       "      <td>3000</td>\n",
       "      <td>10.000000</td>\n",
       "    </tr>\n",
       "    <tr>\n",
       "      <td>1</td>\n",
       "      <td>4</td>\n",
       "      <td>Fixture O4</td>\n",
       "      <td>1038.38</td>\n",
       "      <td>3.669487</td>\n",
       "      <td>97000</td>\n",
       "      <td>10.704948</td>\n",
       "    </tr>\n",
       "  </tbody>\n",
       "</table>\n",
       "</div>"
      ],
      "text/plain": [
       "   order_id  order_name  revenue       ecpm  delivered_impressions  total_ecpm\n",
       "0         3  Fixture O3    30.00  10.000000                   3000   10.000000\n",
       "1         4  Fixture O4  1038.38   3.669487                  97000   10.704948"
      ]
     },
     "execution_count": 747,
     "metadata": {},
     "output_type": "execute_result"
    }
   ],
   "source": [
    "order_df"
   ]
  },
  {
   "cell_type": "code",
   "execution_count": 748,
   "metadata": {},
   "outputs": [
    {
     "name": "stdout",
     "output_type": "stream",
     "text": [
      "{'order_name': 'Fixture O3', 'total_revenue': 30.0, 'average_ecpm': 10.0, 'total_ecpm': 10.0}\n",
      "{'order_name': 'Fixture O4', 'total_revenue': 1038.38, 'average_ecpm': 3.67, 'total_ecpm': 10.7}\n"
     ]
    }
   ],
   "source": [
    "dict_orders = {}\n",
    "for row in order_df.iterrows():\n",
    "    temp_dict = {}\n",
    "    temp_dict[\"order_name\"] = row[1][\"order_name\"]\n",
    "    temp_dict[\"total_revenue\"] = round(row[1][\"revenue\"],2)\n",
    "    temp_dict[\"average_ecpm\"] = round(row[1][\"ecpm\"],2)\n",
    "    temp_dict[\"total_ecpm\"] = round(row[1][\"total_ecpm\"],1)\n",
    "    dict_orders[row[1][\"order_id\"]] = temp_dict\n",
    "    #dict_orders[row[1][\"order_id\"] = temp_dict"
   ]
  },
  {
   "cell_type": "code",
   "execution_count": 749,
   "metadata": {},
   "outputs": [
    {
     "name": "stdout",
     "output_type": "stream",
     "text": [
      "Fixture O3\n",
      "Fixture O4\n"
     ]
    }
   ],
   "source": [
    "for row in order_df.iterrows():\n",
    "    print(row[1][\"order_name\"])"
   ]
  },
  {
   "cell_type": "code",
   "execution_count": 750,
   "metadata": {},
   "outputs": [],
   "source": [
    "dict_results[\"orders\"] = dict_orders"
   ]
  },
  {
   "cell_type": "code",
   "execution_count": 751,
   "metadata": {},
   "outputs": [
    {
     "data": {
      "text/plain": [
       "{'job_name': 'Fixture J3',\n",
       " 'expected_revenue': 50.0,\n",
       " 'total_revenue': 1068.38,\n",
       " 'revenue_target_met': True,\n",
       " 'month_of_service_count': 3,\n",
       " 'orders': {3: {'order_name': 'Fixture O3',\n",
       "   'total_revenue': 30.0,\n",
       "   'average_ecpm': 10.0,\n",
       "   'total_ecpm': 10.0},\n",
       "  4: {'order_name': 'Fixture O4',\n",
       "   'total_revenue': 1038.38,\n",
       "   'average_ecpm': 3.67,\n",
       "   'total_ecpm': 10.7}}}"
      ]
     },
     "execution_count": 751,
     "metadata": {},
     "output_type": "execute_result"
    }
   ],
   "source": [
    "dict_results"
   ]
  },
  {
   "cell_type": "code",
   "execution_count": 752,
   "metadata": {},
   "outputs": [],
   "source": [
    "tester = {\n",
    "            \"job_name\": \"Fixture J3\",\n",
    "            \"expected_revenue\": 50.00,\n",
    "            \"total_revenue\": 1068.38,\n",
    "            \"revenue_target_met\": True,\n",
    "            \"month_of_service_count\": 3,\n",
    "            \"orders\": {\n",
    "                3: {\n",
    "                    \"order_name\": \"Fixture O3\",\n",
    "                    \"total_revenue\": 30.00,\n",
    "                    \"average_ecpm\": 10.00,\n",
    "                    \"total_ecpm\": 10.00\n",
    "                },\n",
    "                4: {\n",
    "                    \"order_name\": \"Fixture O4\",\n",
    "                    \"total_revenue\": 1038.38,\n",
    "                    \"average_ecpm\": 3.67,\n",
    "                    \"total_ecpm\": 10.70\n",
    "                }\n",
    "            }\n",
    "        }"
   ]
  },
  {
   "cell_type": "code",
   "execution_count": 753,
   "metadata": {},
   "outputs": [
    {
     "name": "stdout",
     "output_type": "stream",
     "text": [
      "True\n"
     ]
    }
   ],
   "source": [
    "print(dict_results == tester)"
   ]
  },
  {
   "cell_type": "code",
   "execution_count": null,
   "metadata": {},
   "outputs": [],
   "source": []
  },
  {
   "cell_type": "code",
   "execution_count": null,
   "metadata": {},
   "outputs": [],
   "source": []
  },
  {
   "cell_type": "code",
   "execution_count": null,
   "metadata": {},
   "outputs": [],
   "source": []
  }
 ],
 "metadata": {
  "kernelspec": {
   "display_name": "Python 3",
   "language": "python",
   "name": "python3"
  },
  "language_info": {
   "codemirror_mode": {
    "name": "ipython",
    "version": 3
   },
   "file_extension": ".py",
   "mimetype": "text/x-python",
   "name": "python",
   "nbconvert_exporter": "python",
   "pygments_lexer": "ipython3",
   "version": "3.7.4"
  }
 },
 "nbformat": 4,
 "nbformat_minor": 2
}
